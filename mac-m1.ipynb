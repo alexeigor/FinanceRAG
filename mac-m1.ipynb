{
 "cells": [
  {
   "cell_type": "code",
   "execution_count": null,
   "metadata": {
    "vscode": {
     "languageId": "plaintext"
    }
   },
   "outputs": [],
   "source": [
    "from datasets import load_dataset\n",
    "\n",
    "# Loading a specific subset (i.e. FinDER) and a split (corpus, queries)\n",
    "dataset = load_dataset(\"Linq-AI-Research/FinanceRAG\", \"FinDER\", split=\"corpus\")\n",
    "\n",
    "input_texts = []\n",
    "\n",
    "for example in dataset:\n",
    "  # print(example)\n",
    "  input_texts.append(example['text'])\n",
    "  # break"
   ]
  },
  {
   "cell_type": "code",
   "execution_count": null,
   "metadata": {
    "vscode": {
     "languageId": "plaintext"
    }
   },
   "outputs": [],
   "source": [
    "from sentence_transformers import SentenceTransformer\n",
    "model = SentenceTransformer('intfloat/e5-large-v2', device=\"mps\")"
   ]
  },
  {
   "cell_type": "code",
   "execution_count": null,
   "metadata": {
    "vscode": {
     "languageId": "plaintext"
    }
   },
   "outputs": [],
   "source": [
    "model.compile()"
   ]
  },
  {
   "cell_type": "code",
   "execution_count": null,
   "metadata": {
    "vscode": {
     "languageId": "plaintext"
    }
   },
   "outputs": [],
   "source": [
    "%%timeit\n",
    "\n",
    "embeddings = model.encode(input_texts, show_progress_bar = True, batch_size=8, normalize_embeddings=True)"
   ]
  }
 ],
 "metadata": {
  "language_info": {
   "name": "python"
  }
 },
 "nbformat": 4,
 "nbformat_minor": 2
}
